{
  "cells": [
    {
      "cell_type": "code",
      "execution_count": null,
      "metadata": {
        "colab": {
          "base_uri": "https://localhost:8080/"
        },
        "id": "dkDHSuRWwXkm",
        "outputId": "b97586d9-807a-4767-e730-fa3259d5bc44"
      },
      "outputs": [
        {
          "output_type": "stream",
          "name": "stdout",
          "text": [
            "Mounted at /content/drive\n"
          ]
        }
      ],
      "source": [
        "from google.colab import drive\n",
        "drive.mount('/content/drive')"
      ]
    },
    {
      "cell_type": "code",
      "execution_count": null,
      "metadata": {
        "id": "uhUxpKbvwsoC"
      },
      "outputs": [],
      "source": [
        "import numpy as np\n",
        "import pandas as pd\n",
        "import matplotlib.pyplot as plt\n",
        "import seaborn as sns\n",
        "import os"
      ]
    },
    {
      "cell_type": "code",
      "execution_count": null,
      "metadata": {
        "id": "SITpsMMRym05"
      },
      "outputs": [],
      "source": [
        "import keras\n",
        "from keras.models import Sequential\n",
        "from keras.layers import Conv2D,Flatten,Dense,MaxPooling2D\n",
        "from keras.layers import Dropout\n",
        "from sklearn.metrics import accuracy_score"
      ]
    },
    {
      "cell_type": "code",
      "execution_count": null,
      "metadata": {
        "id": "VJH4WQa9yqh7"
      },
      "outputs": [],
      "source": [
        "import ipywidgets as widgets\n",
        "import io\n",
        "from PIL import Image\n",
        "import tqdm\n",
        "from sklearn.model_selection import train_test_split\n",
        "import cv2\n",
        "from sklearn.utils import shuffle\n",
        "import tensorflow as tf"
      ]
    },
    {
      "cell_type": "code",
      "execution_count": null,
      "metadata": {
        "id": "lbvUGBZzyvUy"
      },
      "outputs": [],
      "source": [
        "X_train = []\n",
        "y_train = []\n",
        "image_size = 150\n",
        "x = 0\n",
        "folderPath ='/content/drive/MyDrive/Clinical_Mastitis/Normal'\n",
        "for j in os.listdir(folderPath):\n",
        "    img = cv2.imread(os.path.join(folderPath,j))\n",
        "    img = cv2.resize(img,(image_size, image_size))\n",
        "    X_train.append(img)\n",
        "    x +=1\n",
        "    y_train.append(0)\n",
        "    if(x==740):\n",
        "      break\n",
        "folderPath ='/content/drive/MyDrive/clinical_mastitis/normalAug'\n",
        "y=0\n",
        "for j in os.listdir(folderPath):\n",
        "    img = cv2.imread(os.path.join(folderPath,j))\n",
        "    img = cv2.resize(img,(image_size, image_size))\n",
        "    X_train.append(img)\n",
        "    y_train.append(1)\n",
        "    y+=1\n",
        ""
      ]
    },
    {
      "cell_type": "code",
      "source": [
        "print(x,y)"
      ],
      "metadata": {
        "colab": {
          "base_uri": "https://localhost:8080/"
        },
        "id": "K1-yxXncIl6h",
        "outputId": "24ecdb60-a0c6-4607-caf7-32759eba279a"
      },
      "execution_count": null,
      "outputs": [
        {
          "output_type": "stream",
          "name": "stdout",
          "text": [
            "740 740\n"
          ]
        }
      ]
    },
    {
      "cell_type": "code",
      "execution_count": null,
      "metadata": {
        "id": "bDxirLOItgVe",
        "colab": {
          "base_uri": "https://localhost:8080/"
        },
        "outputId": "0b0cd864-779e-4b4c-a7bd-322ef278122b"
      },
      "outputs": [
        {
          "output_type": "execute_result",
          "data": {
            "text/plain": [
              "(1332, 150, 150, 3)"
            ]
          },
          "metadata": {},
          "execution_count": 71
        }
      ],
      "source": [
        "X_train = np.array(X_train)\n",
        "y_train = np.array(y_train)\n",
        "\n",
        "X_train,y_train=shuffle(X_train,y_train,random_state=101)\n",
        "X_train.shape"
      ]
    },
    {
      "cell_type": "code",
      "execution_count": null,
      "metadata": {
        "id": "txFQY-OZ_JjA"
      },
      "outputs": [],
      "source": [
        "X_train,X_test,y_train,y_test=train_test_split(X_train,y_train,test_size=.1,random_state=101)"
      ]
    },
    {
      "cell_type": "code",
      "execution_count": null,
      "metadata": {
        "id": "UAQbt_-R_kAk",
        "colab": {
          "base_uri": "https://localhost:8080/"
        },
        "outputId": "b577de90-914f-4cc1-97f9-47c071d22caf"
      },
      "outputs": [
        {
          "output_type": "execute_result",
          "data": {
            "text/plain": [
              "(1198,)"
            ]
          },
          "metadata": {},
          "execution_count": 73
        }
      ],
      "source": [
        "y_train.shape"
      ]
    },
    {
      "cell_type": "code",
      "execution_count": null,
      "metadata": {
        "id": "CMPjgEz4_m3x"
      },
      "outputs": [],
      "source": [
        "model = Sequential()\n",
        "model.add(Conv2D(32, (3, 3), activation='relu', input_shape=(150,150, 3)))\n",
        "model.add(Conv2D(64, (3, 3), activation='relu'))\n",
        "model.add(MaxPooling2D((2, 2)))\n",
        "model.add(Dropout(0.2))\n",
        "model.add(Conv2D(64, (3, 3), activation='relu'))\n",
        "model.add(Conv2D(64, (3, 3), activation='relu'))\n",
        "model.add(Dropout(0.2))\n",
        "model.add(MaxPooling2D((2, 2)))\n",
        "model.add(Dropout(0.2))\n",
        "model.add(Conv2D(128, (3, 3), activation='relu'))\n",
        "model.add(Conv2D(128, (3, 3), activation='relu'))\n",
        "model.add(Conv2D(128, (3, 3), activation='relu'))\n",
        "model.add(MaxPooling2D((2, 2)))\n",
        "model.add(Dropout(0.2))\n",
        "model.add(Conv2D(128, (3, 3), activation='relu'))\n",
        "model.add(Conv2D(256, (3, 3), activation='relu'))\n",
        "model.add(MaxPooling2D((2, 2)))\n",
        "model.add(Dropout(0.2))\n",
        "model.add(Flatten())\n",
        "model.add(Dense(512, activation='relu'))\n",
        "model.add(Dense(512, activation='relu'))\n",
        "model.add(Dropout(0.2))\n",
        "model.add(Dense(4, activation='sigmoid'))"
      ]
    },
    {
      "cell_type": "code",
      "execution_count": null,
      "metadata": {
        "id": "ZaKjTruL_7o_",
        "colab": {
          "base_uri": "https://localhost:8080/"
        },
        "outputId": "1525a974-66f1-4b7c-c2d5-b61242afca38"
      },
      "outputs": [
        {
          "output_type": "stream",
          "name": "stdout",
          "text": [
            "Model: \"sequential_3\"\n",
            "_________________________________________________________________\n",
            " Layer (type)                Output Shape              Param #   \n",
            "=================================================================\n",
            " conv2d_27 (Conv2D)          (None, 148, 148, 32)      896       \n",
            "                                                                 \n",
            " conv2d_28 (Conv2D)          (None, 146, 146, 64)      18496     \n",
            "                                                                 \n",
            " max_pooling2d_12 (MaxPoolin  (None, 73, 73, 64)       0         \n",
            " g2D)                                                            \n",
            "                                                                 \n",
            " dropout_18 (Dropout)        (None, 73, 73, 64)        0         \n",
            "                                                                 \n",
            " conv2d_29 (Conv2D)          (None, 71, 71, 64)        36928     \n",
            "                                                                 \n",
            " conv2d_30 (Conv2D)          (None, 69, 69, 64)        36928     \n",
            "                                                                 \n",
            " dropout_19 (Dropout)        (None, 69, 69, 64)        0         \n",
            "                                                                 \n",
            " max_pooling2d_13 (MaxPoolin  (None, 34, 34, 64)       0         \n",
            " g2D)                                                            \n",
            "                                                                 \n",
            " dropout_20 (Dropout)        (None, 34, 34, 64)        0         \n",
            "                                                                 \n",
            " conv2d_31 (Conv2D)          (None, 32, 32, 128)       73856     \n",
            "                                                                 \n",
            " conv2d_32 (Conv2D)          (None, 30, 30, 128)       147584    \n",
            "                                                                 \n",
            " conv2d_33 (Conv2D)          (None, 28, 28, 128)       147584    \n",
            "                                                                 \n",
            " max_pooling2d_14 (MaxPoolin  (None, 14, 14, 128)      0         \n",
            " g2D)                                                            \n",
            "                                                                 \n",
            " dropout_21 (Dropout)        (None, 14, 14, 128)       0         \n",
            "                                                                 \n",
            " conv2d_34 (Conv2D)          (None, 12, 12, 128)       147584    \n",
            "                                                                 \n",
            " conv2d_35 (Conv2D)          (None, 10, 10, 256)       295168    \n",
            "                                                                 \n",
            " max_pooling2d_15 (MaxPoolin  (None, 5, 5, 256)        0         \n",
            " g2D)                                                            \n",
            "                                                                 \n",
            " dropout_22 (Dropout)        (None, 5, 5, 256)         0         \n",
            "                                                                 \n",
            " flatten_3 (Flatten)         (None, 6400)              0         \n",
            "                                                                 \n",
            " dense_9 (Dense)             (None, 512)               3277312   \n",
            "                                                                 \n",
            " dense_10 (Dense)            (None, 512)               262656    \n",
            "                                                                 \n",
            " dropout_23 (Dropout)        (None, 512)               0         \n",
            "                                                                 \n",
            " dense_11 (Dense)            (None, 4)                 2052      \n",
            "                                                                 \n",
            "=================================================================\n",
            "Total params: 4,447,044\n",
            "Trainable params: 4,447,044\n",
            "Non-trainable params: 0\n",
            "_________________________________________________________________\n"
          ]
        }
      ],
      "source": [
        "model.summary()"
      ]
    },
    {
      "cell_type": "code",
      "execution_count": null,
      "metadata": {
        "id": "dRV4oqdM__iG"
      },
      "outputs": [],
      "source": [
        "model.compile(loss='sparse_categorical_crossentropy', optimizer='Adam',metrics=['accuracy'])"
      ]
    },
    {
      "cell_type": "code",
      "execution_count": null,
      "metadata": {
        "id": "_vZgNFNsAF8a"
      },
      "outputs": [],
      "source": [
        "from tensorflow.keras.callbacks import EarlyStopping, ModelCheckpoint\n",
        "callbacks = EarlyStopping(monitor='val_loss', patience=5, verbose=1, mode='auto')\n",
        " #autosave best Model\n",
        "#best_model_file = '/content/CNN_aug_best_weights.h5'\n",
        "#best_model = ModelCheckpoint(best_model_file, monitor='val_acc', verbose = 1, save_best_only = True)"
      ]
    },
    {
      "cell_type": "code",
      "execution_count": null,
      "metadata": {
        "id": "uL_GByiVAMtP",
        "colab": {
          "base_uri": "https://localhost:8080/"
        },
        "outputId": "ddbd0c24-a1c1-4c61-a4f5-c8ee159101d7"
      },
      "outputs": [
        {
          "output_type": "stream",
          "name": "stdout",
          "text": [
            "Epoch 1/100\n",
            "34/34 [==============================] - 6s 148ms/step - loss: 4.0479 - accuracy: 0.4722 - val_loss: 0.8154 - val_accuracy: 0.6500\n",
            "Epoch 2/100\n",
            "34/34 [==============================] - 3s 85ms/step - loss: 0.7170 - accuracy: 0.5677 - val_loss: 0.8107 - val_accuracy: 0.5083\n",
            "Epoch 3/100\n",
            "34/34 [==============================] - 3s 83ms/step - loss: 0.7073 - accuracy: 0.5186 - val_loss: 0.7348 - val_accuracy: 0.4917\n",
            "Epoch 4/100\n",
            "34/34 [==============================] - 3s 83ms/step - loss: 0.7377 - accuracy: 0.5473 - val_loss: 0.7380 - val_accuracy: 0.5083\n",
            "Epoch 5/100\n",
            "34/34 [==============================] - 3s 85ms/step - loss: 0.7077 - accuracy: 0.4926 - val_loss: 0.7939 - val_accuracy: 0.5083\n",
            "Epoch 6/100\n",
            "34/34 [==============================] - 3s 84ms/step - loss: 0.7112 - accuracy: 0.4833 - val_loss: 0.7024 - val_accuracy: 0.5083\n",
            "Epoch 7/100\n",
            "34/34 [==============================] - 3s 85ms/step - loss: 0.6996 - accuracy: 0.4972 - val_loss: 0.7438 - val_accuracy: 0.5083\n",
            "Epoch 8/100\n",
            "34/34 [==============================] - 3s 84ms/step - loss: 0.7007 - accuracy: 0.5037 - val_loss: 0.7709 - val_accuracy: 0.5083\n",
            "Epoch 9/100\n",
            "34/34 [==============================] - 3s 86ms/step - loss: 0.6847 - accuracy: 0.5186 - val_loss: 0.6936 - val_accuracy: 0.7167\n",
            "Epoch 10/100\n",
            "34/34 [==============================] - 3s 84ms/step - loss: 0.7390 - accuracy: 0.5019 - val_loss: 0.6983 - val_accuracy: 0.5083\n",
            "Epoch 11/100\n",
            "34/34 [==============================] - 3s 84ms/step - loss: 0.7069 - accuracy: 0.5037 - val_loss: 0.7150 - val_accuracy: 0.5083\n",
            "Epoch 12/100\n",
            "34/34 [==============================] - 3s 84ms/step - loss: 0.7052 - accuracy: 0.4907 - val_loss: 0.7484 - val_accuracy: 0.5083\n",
            "Epoch 13/100\n",
            "34/34 [==============================] - 3s 84ms/step - loss: 0.6977 - accuracy: 0.5019 - val_loss: 0.7216 - val_accuracy: 0.5083\n",
            "Epoch 14/100\n",
            "34/34 [==============================] - 3s 83ms/step - loss: 0.6971 - accuracy: 0.4954 - val_loss: 0.7073 - val_accuracy: 0.5083\n",
            "Epoch 14: early stopping\n"
          ]
        }
      ],
      "source": [
        "history=model.fit(X_train,y_train,epochs=100,validation_split=.1,callbacks=callbacks)"
      ]
    },
    {
      "cell_type": "code",
      "execution_count": null,
      "metadata": {
        "id": "lVHSZpcmAWpP",
        "colab": {
          "base_uri": "https://localhost:8080/",
          "height": 458
        },
        "outputId": "873d3bbe-d058-4df8-8a38-64e1f394dd62"
      },
      "outputs": [
        {
          "output_type": "display_data",
          "data": {
            "text/plain": [
              "<Figure size 1008x504 with 1 Axes>"
            ],
            "image/png": "[encoded data removed]"
          },
          "metadata": {
            "needs_background": "light"
          }
        }
      ],
      "source": [
        "acc=history.history['accuracy']\n",
        "val_acc=history.history['val_accuracy']\n",
        "loss=history.history['loss']\n",
        "val_loss=history.history['val_loss']\n",
        "\n",
        "epochs=range(len(acc))\n",
        "\n",
        "fig = plt.figure(figsize=(14,7))\n",
        "plt.plot(epochs, acc, 'r', label=\"Training Accuracy\")\n",
        "plt.plot(epochs, val_acc, 'b', label=\"Validation Accuracy\")\n",
        "plt.xlabel('Epoch')\n",
        "plt.ylabel('Accuracy')\n",
        "plt.title('Training and validation accuracy')\n",
        "plt.legend(loc='lower right')\n",
        "plt.show()"
      ]
    },
    {
      "cell_type": "code",
      "execution_count": null,
      "metadata": {
        "id": "M3xm3FsXC8Bq",
        "colab": {
          "base_uri": "https://localhost:8080/",
          "height": 476
        },
        "outputId": "4911c2b8-ad74-49d7-b9d2-7717dc642d20"
      },
      "outputs": [
        {
          "output_type": "execute_result",
          "data": {
            "text/plain": [
              "Text(0.5, 1.0, 'Training and validation loss')"
            ]
          },
          "metadata": {},
          "execution_count": 80
        },
        {
          "output_type": "display_data",
          "data": {
            "text/plain": [
              "<Figure size 1008x504 with 1 Axes>"
            ],
            "image/png": "[encoded data removed]"
          },
          "metadata": {
            "needs_background": "light"
          }
        }
      ],
      "source": [
        "fig2 = plt.figure(figsize=(14,7))\n",
        "plt.plot(epochs, loss, 'r', label=\"Training Loss\")\n",
        "plt.plot(epochs, val_loss, 'b', label=\"Validation Loss\")\n",
        "plt.legend(loc='upper right')\n",
        "plt.xlabel('Epoch')\n",
        "plt.ylabel('Loss')\n",
        "plt.title('Training and validation loss')"
      ]
    },
    {
      "cell_type": "code",
      "execution_count": null,
      "metadata": {
        "id": "svjn0toQDXfz",
        "colab": {
          "base_uri": "https://localhost:8080/"
        },
        "outputId": "1ca5c963-31ad-4aeb-e858-14e5dbe80bbd"
      },
      "outputs": [
        {
          "output_type": "stream",
          "name": "stdout",
          "text": [
            "5/5 [==============================] - 0s 35ms/step\n"
          ]
        }
      ],
      "source": [
        "pred = model.predict(X_test)\n",
        "pred = np.argmax(pred,axis=1)"
      ]
    },
    {
      "cell_type": "code",
      "execution_count": null,
      "metadata": {
        "id": "R38Ca6mWDix6",
        "colab": {
          "base_uri": "https://localhost:8080/"
        },
        "outputId": "3284d42d-ced9-4673-f9cf-3ddc5430d8fa"
      },
      "outputs": [
        {
          "output_type": "execute_result",
          "data": {
            "text/plain": [
              "(134,)"
            ]
          },
          "metadata": {},
          "execution_count": 82
        }
      ],
      "source": [
        "y_test.shape\n",
        "pred.shape"
      ]
    },
    {
      "cell_type": "code",
      "execution_count": null,
      "metadata": {
        "id": "AsuDC3K7DmJ_",
        "colab": {
          "base_uri": "https://localhost:8080/"
        },
        "outputId": "7c82eeec-095e-497c-f6a6-574ca5e4a40e"
      },
      "outputs": [
        {
          "output_type": "stream",
          "name": "stdout",
          "text": [
            "Accuracy on testing dataset: 46.27%\n"
          ]
        }
      ],
      "source": [
        "accuracy = np.sum(pred==y_test)/np.size(pred)\n",
        "print(\"Accuracy on testing dataset: {:.2f}%\".format(accuracy*100))"
      ]
    },
    {
      "cell_type": "code",
      "execution_count": null,
      "metadata": {
        "id": "56dfqF-G5TJ5"
      },
      "outputs": [],
      "source": [
        "from sklearn.metrics import confusion_matrix\n",
        "from sklearn.metrics import precision_score, recall_score, f1_score"
      ]
    },
    {
      "cell_type": "code",
      "execution_count": null,
      "metadata": {
        "id": "r0LR8I0vRNSl",
        "colab": {
          "base_uri": "https://localhost:8080/"
        },
        "outputId": "29ba571d-262e-47d2-e23f-740b2342c6bd"
      },
      "outputs": [
        {
          "output_type": "stream",
          "name": "stdout",
          "text": [
            "Precision: 0.000\n"
          ]
        },
        {
          "output_type": "stream",
          "name": "stderr",
          "text": [
            "/usr/local/lib/python3.7/dist-packages/sklearn/metrics/_classification.py:1318: UndefinedMetricWarning: Precision is ill-defined and being set to 0.0 due to no predicted samples. Use `zero_division` parameter to control this behavior.\n",
            "  _warn_prf(average, modifier, msg_start, len(result))\n"
          ]
        }
      ],
      "source": [
        "print('Precision: %.3f' % precision_score(y_test, pred))"
      ]
    },
    {
      "cell_type": "code",
      "execution_count": null,
      "metadata": {
        "id": "bLibBRw05Ha3",
        "colab": {
          "base_uri": "https://localhost:8080/"
        },
        "outputId": "3129613b-a142-4860-e594-c358fdc3a4b8"
      },
      "outputs": [
        {
          "output_type": "stream",
          "name": "stdout",
          "text": [
            "Recall: 0.000\n"
          ]
        }
      ],
      "source": [
        "print('Recall: %.3f' % recall_score(y_test,pred))"
      ]
    },
    {
      "cell_type": "code",
      "execution_count": null,
      "metadata": {
        "id": "gwxTnhfI5mcH",
        "colab": {
          "base_uri": "https://localhost:8080/"
        },
        "outputId": "a1372f5d-031c-405c-bd97-3dbb7a2313a0"
      },
      "outputs": [
        {
          "output_type": "stream",
          "name": "stdout",
          "text": [
            "F1 Score: 0.000\n"
          ]
        }
      ],
      "source": [
        "\tprint('F1 Score: %.3f' % f1_score(y_test, pred))"
      ]
    },
    {
      "cell_type": "code",
      "execution_count": null,
      "metadata": {
        "id": "uq70kHYd5x30",
        "colab": {
          "base_uri": "https://localhost:8080/"
        },
        "outputId": "ff0cd230-1117-4a02-ea55-d874c4f9bdbd"
      },
      "outputs": [
        {
          "output_type": "execute_result",
          "data": {
            "text/plain": [
              "array([[62,  0],\n",
              "       [72,  0]])"
            ]
          },
          "metadata": {},
          "execution_count": 88
        }
      ],
      "source": [
        "# Confusion Matrix\n",
        "from sklearn.metrics import confusion_matrix\n",
        "confusion_matrix(y_test, pred)"
      ]
    },
    {
      "cell_type": "code",
      "source": [
        "from sklearn.metrics import ConfusionMatrixDisplay\n",
        "import matplotlib.pyplot as plt\n",
        "import numpy as np\n",
        "labels = [\"Healthy\",\"Unhealthy\"]\n",
        "\n",
        "cm = confusion_matrix(y_test, pred)\n",
        "\n",
        "disp = ConfusionMatrixDisplay(confusion_matrix=cm, display_labels=labels)\n",
        "\n",
        "disp.plot(cmap=plt.cm.Blues)\n",
        "plt.show()"
      ],
      "metadata": {
        "colab": {
          "base_uri": "https://localhost:8080/",
          "height": 279
        },
        "id": "G-XWraBqCBa5",
        "outputId": "6b5364a4-7f16-4ddd-f3bd-3023ccb1216f"
      },
      "execution_count": null,
      "outputs": [
        {
          "output_type": "display_data",
          "data": {
            "text/plain": [
              "<Figure size 432x288 with 2 Axes>"
            ],
            "image/png": "[encoded data removed]"
          },
          "metadata": {
            "needs_background": "light"
          }
        }
      ]
    }
  ],
  "metadata": {
    "accelerator": "GPU",
    "colab": {
      "provenance": []
    },
    "gpuClass": "standard",
    "kernelspec": {
      "display_name": "Python 3",
      "name": "python3"
    },
    "language_info": {
      "name": "python"
    }
  },
  "nbformat": 4,
  "nbformat_minor": 0
}